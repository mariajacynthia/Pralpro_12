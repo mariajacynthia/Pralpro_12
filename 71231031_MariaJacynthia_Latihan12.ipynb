{
 "cells": [
  {
   "cell_type": "code",
   "execution_count": 14,
   "metadata": {},
   "outputs": [
    {
     "name": "stdout",
     "output_type": "stream",
     "text": [
      "Masukkan 5 nama aplikasi untuk kategori 'DIsney':\n",
      "Masukkan 5 nama aplikasi untuk kategori 'Princess':\n",
      "Masukkan 5 nama aplikasi untuk kategori 'Beauty':\n",
      "\n",
      "Daftar nama aplikasi di setiap kategori:\n",
      "DIsney: Pocahontas, Merida, Moana, Belle, Elsa\n",
      "Princess: Aurora, Rapunzel, Jasmine , Merida, Anna\n",
      "Beauty: Phanelope, Mulan, Snow White, Tiana, Tinkerbell\n",
      "\n",
      "aplikasi yang muncul disemua kategori: set()\n",
      "{'Mulan', 'Anna', 'Snow White', 'Jasmine ', 'Tinkerbell', 'Aurora', 'Tiana', 'Phanelope', 'Rapunzel'}\n",
      "\n",
      "Aplikasi yang hanya muncul di satu kategori saja: {'Mulan', 'Anna', 'Snow White', 'Jasmine ', 'Tinkerbell', 'Aurora', 'Tiana', 'Phanelope', 'Rapunzel'}\n",
      "\n",
      "Aplikasi yang muncul tepat di dua kategori: {'Merida'}\n"
     ]
    }
   ],
   "source": [
    "#soal 12-1\n",
    "c = int(input('Masukkan jumlah kategori: '))\n",
    "\n",
    "dataaplikasi = {}\n",
    "\n",
    "for i in range(n):\n",
    "    inikategori = input(f\"Masukkan nama kategori ke-{i+1}: \")\n",
    "    aplikasi = []\n",
    "    print(f\"Masukkan 5 nama aplikasi untuk kategori '{inikategori}':\")\n",
    "    for j in range(5):\n",
    "        iniaplikasi = input(f\"Aplikasi ke-{j+1}: \")\n",
    "        aplikasi.append(iniaplikasi)\n",
    "    dataaplikasi[inikategori] = aplikasi\n",
    "    \n",
    "print(\"\\nDaftar nama aplikasi di setiap kategori:\")\n",
    "for kategori, aplikasi in dataaplikasi.items():\n",
    "    print(f\"{kategori}: {', '.join(aplikasi)}\")\n",
    "\n",
    "daftarlistapk = []\n",
    "\n",
    "for aplikasi in dataaplikasi.values():\n",
    "    daftarlistapk.append(set(aplikasi))\n",
    "\n",
    "hasil = daftarlistapk[0]\n",
    "for i in range(1, len(daftarlistapk)):\n",
    "    hasil = hasil&daftarlistapk[i]\n",
    "print(f\"\\naplikasi yang muncul disemua kategori: {hasil}\")\n",
    "\n",
    "hasill = daftarlistapk[0]\n",
    "for i in range(1, len(daftarlistapk)):\n",
    "    hasill = hasill^daftarlistapk[i]\n",
    "\n",
    "hasilll = daftarlistapk[0]\n",
    "for i in range(1,len(daftarlistapk)):\n",
    "    hasilll.update(hasilll&daftarlistapk[i])\n",
    "for i in hasilll:\n",
    "    if i in hasill:\n",
    "        hasill.remove(i)\n",
    "print(hasill)\n",
    "\n",
    "print(\"\\nAplikasi yang hanya muncul di satu kategori saja:\", hasill)\n",
    "\n",
    "aplikasiii = list()\n",
    "duakategori=set()\n",
    "\n",
    "if c > 2:\n",
    "    for i in dataaplikasi.values():\n",
    "        aplikasiii+=i\n",
    "    for i in aplikasiii:\n",
    "        if aplikasiii.count(i)==2:\n",
    "            duakategori.add(i)\n",
    "    print(\"\\nAplikasi yang muncul tepat di dua kategori:\", duakategori)"
   ]
  },
  {
   "cell_type": "code",
   "execution_count": 5,
   "metadata": {},
   "outputs": [
    {
     "name": "stdout",
     "output_type": "stream",
     "text": [
      "List sebelum dikonversi: [1, 2, 3, 4, 5, 2, 3]\n",
      "List setelah dikonversi menjadi set: {1, 2, 3, 4, 5}\n",
      "\n",
      "Set sebelum dikonversi: {1, 2, 3, 4, 5}\n",
      "Set setelah dikonversi menjadi list: [1, 2, 3, 4, 5]\n",
      "\n",
      "Tuple sebelum dikonversi: (1, 2, 3, 4, 5, 2, 3)\n",
      "Tuple setelah dikonversi menjadi set: {1, 2, 3, 4, 5}\n",
      "\n",
      "Set sebelum dikonversi: {1, 2, 3, 4, 5}\n",
      "Set setelah dikonversi menjadi Tuple: (1, 2, 3, 4, 5)\n"
     ]
    }
   ],
   "source": [
    "#soal 12-2\n",
    "def main():\n",
    "    #List menjadi Set\n",
    "    inilist = [1, 2, 3, 4, 5, 2, 3]\n",
    "    print(\"List sebelum dikonversi:\", inilist)\n",
    "    list_ke_set = set(inilist)\n",
    "    \n",
    "    print(\"List setelah dikonversi menjadi set:\", list_ke_set)\n",
    "    \n",
    "    #Set menjadi List\n",
    "    iniset1 = {1, 2, 3, 4, 5}\n",
    "    print(\"\\nSet sebelum dikonversi:\", iniset1)\n",
    "    set_ke_list = list(iniset1)\n",
    "    print(\"Set setelah dikonversi menjadi list:\", set_ke_list)\n",
    "    \n",
    "    #Tuple menjadi Set\n",
    "    inituple = (1, 2, 3, 4, 5, 2, 3)\n",
    "    print(\"\\nTuple sebelum dikonversi:\", inituple)\n",
    "    tuple_ke_set = set(inituple)\n",
    "    print(\"Tuple setelah dikonversi menjadi set:\", tuple_ke_set)\n",
    "    \n",
    "    #Set menjadi Tuple\n",
    "    iniset2 = {1, 2, 3, 4, 5}\n",
    "    print(\"\\nSet sebelum dikonversi:\", iniset2)\n",
    "    set_ke_tuple = tuple(iniset2)\n",
    "    print(\"Set setelah dikonversi menjadi Tuple:\", set_ke_tuple)\n",
    "\n",
    "if __name__ == \"__main__\":\n",
    "    main()\n"
   ]
  },
  {
   "cell_type": "code",
   "execution_count": 3,
   "metadata": {},
   "outputs": [
    {
     "name": "stdout",
     "output_type": "stream",
     "text": [
      "\n",
      "Kata-kata yang muncul di kedua file tersebut adalah:\n",
      "you,\n",
      "i\n",
      "but\n"
     ]
    }
   ],
   "source": [
    "#soal 12-3\n",
    "def filejadiset(filename):\n",
    "    try:\n",
    "        with open(filename, 'r') as file:\n",
    "            isifile = file.read().lower() \n",
    "            kata = set(isifile.split())   \n",
    "        return kata\n",
    "    except FileNotFoundError:\n",
    "        print(f\"Error! File '{filename}' tidak ditemukan.\")\n",
    "        return None\n",
    "    except IOError:\n",
    "        print(f\"Error! File '{filename}' tidak bisa dibaca.\")\n",
    "        return None\n",
    "\n",
    "def main():\n",
    "    filesatu = input(\"Masukkan nama file pertama: \")\n",
    "    filedua = input(\"Masukkan nama file kedua: \")\n",
    "    katafilesatu = filejadiset(filesatu)\n",
    "    katafiledua = filejadiset(filedua)\n",
    "    \n",
    "    if katafilesatu is not None and katafiledua is not None:\n",
    "        seringmuncul = katafilesatu.intersection(katafiledua)\n",
    "        \n",
    "        if seringmuncul:\n",
    "            print(\"\\nKata-kata yang muncul di kedua file tersebut adalah:\")\n",
    "            for kata in seringmuncul:\n",
    "                print(kata)\n",
    "        else:\n",
    "            print(\"\\nTidak ada kata yang sama yang muncul di kedua file.\")\n",
    "    else:\n",
    "        print(\"Proses dihentikan karena ada file yang tidak bisa dibaca.\")\n",
    "\n",
    "if __name__ == \"__main__\":\n",
    "    main()"
   ]
  }
 ],
 "metadata": {
  "kernelspec": {
   "display_name": "Python 3",
   "language": "python",
   "name": "python3"
  },
  "language_info": {
   "codemirror_mode": {
    "name": "ipython",
    "version": 3
   },
   "file_extension": ".py",
   "mimetype": "text/x-python",
   "name": "python",
   "nbconvert_exporter": "python",
   "pygments_lexer": "ipython3",
   "version": "3.12.0"
  }
 },
 "nbformat": 4,
 "nbformat_minor": 2
}
